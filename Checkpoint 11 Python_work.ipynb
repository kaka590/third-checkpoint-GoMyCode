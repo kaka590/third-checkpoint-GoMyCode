{
 "cells": [
  {
   "cell_type": "code",
   "execution_count": 1,
   "id": "25365b5a-53d8-4e83-b570-27da4056a816",
   "metadata": {},
   "outputs": [],
   "source": [
    "import random"
   ]
  },
  {
   "cell_type": "code",
   "execution_count": 3,
   "id": "a8d07b7f-d1a9-4751-9cb3-4541d95795d8",
   "metadata": {},
   "outputs": [],
   "source": [
    "secret_number = random.randint(1, 100)"
   ]
  },
  {
   "cell_type": "markdown",
   "id": "89ad5b7a-3701-4e40-8fd4-18022ca7f4c0",
   "metadata": {},
   "source": [
    "while guess != secret_number:\n",
    "    if guess < secret_number:\n",
    "        print(\"Too low!\")\n",
    "        if secret_number - guess >10:"
   ]
  },
  {
   "cell_type": "code",
   "execution_count": null,
   "id": "306b8be1-cef7-40ed-89c5-6559ef98274c",
   "metadata": {},
   "outputs": [],
   "source": [
    "guess = int(input(\"Guess a number between 1 and 100: \"))"
   ]
  },
  {
   "cell_type": "code",
   "execution_count": 12,
   "id": "f6f2e7e1-ff7b-47e1-a079-1e2af37dbf76",
   "metadata": {},
   "outputs": [
    {
     "name": "stdout",
     "output_type": "stream",
     "text": [
      "Hint: you are way too low!\n"
     ]
    }
   ],
   "source": [
    "print(\"Hint: you are way too low!\")"
   ]
  },
  {
   "cell_type": "code",
   "execution_count": 32,
   "id": "42738a21-3773-4ee2-a141-28dcd4a043c0",
   "metadata": {},
   "outputs": [
    {
     "name": "stdout",
     "output_type": "stream",
     "text": [
      "Hint: You are a little low!\n"
     ]
    }
   ],
   "source": [
    "print(\"Hint: You are a little low!\")"
   ]
  },
  {
   "cell_type": "code",
   "execution_count": 34,
   "id": "ca522628-9c50-466d-8547-719bfc3b074e",
   "metadata": {},
   "outputs": [
    {
     "name": "stdout",
     "output_type": "stream",
     "text": [
      "too high!\n"
     ]
    }
   ],
   "source": [
    "print(\"too high!\")"
   ]
  },
  {
   "cell_type": "code",
   "execution_count": 38,
   "id": "7b0fdb13-81d7-44fa-9ca2-b0eb0494fc44",
   "metadata": {},
   "outputs": [
    {
     "name": "stdout",
     "output_type": "stream",
     "text": [
      "Hint: You are a little high. \n"
     ]
    }
   ],
   "source": [
    "print(\"Hint: You are a little high. \")"
   ]
  },
  {
   "cell_type": "code",
   "execution_count": null,
   "id": "32956885-33c8-4afb-89b3-aa345d106d1c",
   "metadata": {},
   "outputs": [],
   "source": [
    "guess = int(input(\"Try again: \"))"
   ]
  },
  {
   "cell_type": "code",
   "execution_count": null,
   "id": "a24727ee-7ce4-4256-906e-999e054216c6",
   "metadata": {},
   "outputs": [],
   "source": []
  }
 ],
 "metadata": {
  "kernelspec": {
   "display_name": "Python [conda env:base] *",
   "language": "python",
   "name": "conda-base-py"
  },
  "language_info": {
   "codemirror_mode": {
    "name": "ipython",
    "version": 3
   },
   "file_extension": ".py",
   "mimetype": "text/x-python",
   "name": "python",
   "nbconvert_exporter": "python",
   "pygments_lexer": "ipython3",
   "version": "3.12.7"
  }
 },
 "nbformat": 4,
 "nbformat_minor": 5
}
